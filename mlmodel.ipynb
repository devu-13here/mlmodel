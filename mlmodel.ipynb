{
  "cells": [
    {
      "cell_type": "markdown",
      "metadata": {
        "id": "view-in-github",
        "colab_type": "text"
      },
      "source": [
        "<a href=\"https://colab.research.google.com/github/devu-13here/mlmodel/blob/main/mlmodel.ipynb\" target=\"_parent\"><img src=\"https://colab.research.google.com/assets/colab-badge.svg\" alt=\"Open In Colab\"/></a>"
      ]
    },
    {
      "cell_type": "markdown",
      "metadata": {
        "id": "suBex3vnr5GO"
      },
      "source": [
        "# Hello,Reader"
      ]
    },
    {
      "cell_type": "markdown",
      "metadata": {
        "id": "k7VRkpptr5GR"
      },
      "source": [
        "Hello and welcome to the Numerai Data Science Tournament!\n",
        "\n",
        "This notebook is designed to help you build your first machine learning model and start competing the tournament.\n",
        "\n",
        "In this notebook we will\n",
        "1. Download and explore the Numerai dataset\n",
        "2. Train and evaluate your first machine learning model\n",
        "3. Deploy your model to start making live submissions"
      ]
    },
    {
      "cell_type": "code",
      "execution_count": 1,
      "metadata": {
        "colab": {
          "base_uri": "https://localhost:8080/"
        },
        "id": "THMEU_T4r5GS",
        "outputId": "f3fac3be-cea7-4dd5-ac90-b89484898c52"
      },
      "outputs": [
        {
          "output_type": "stream",
          "name": "stdout",
          "text": [
            "\u001b[2K     \u001b[90m━━━━━━━━━━━━━━━━━━━━━━━━━━━━━━━━━━━━━━━━\u001b[0m \u001b[32m34.4/34.4 MB\u001b[0m \u001b[31m13.4 MB/s\u001b[0m eta \u001b[36m0:00:00\u001b[0m\n",
            "\u001b[?25h"
          ]
        }
      ],
      "source": [
        "# Install dependencies\n",
        "!pip install -q numerapi pandas pyarrow matplotlib lightgbm scikit-learn cloudpickle scipy==1.10.1\n",
        "\n",
        "# Inline plots\n",
        "%matplotlib inline"
      ]
    },
    {
      "cell_type": "markdown",
      "metadata": {
        "id": "YoeLNZTSr5GT"
      },
      "source": [
        "## 1. Dataset  \n",
        "\n",
        "At a high level, the Numerai dataset is a tabular dataset that describes the stock market over time. It is compiled from high-quality (and expensive) data that might be difficult for individuals to obtain.\n",
        "\n",
        "The unique thing about Numerai's dataset is that it is `obfuscated`, which means that the underlying stock ids, feature names, and target definitions are anonymized. This makes it so that we can give this data out for free and so that it can be modeled without any financial domain knowledge (or bias!)."
      ]
    },
    {
      "cell_type": "markdown",
      "metadata": {
        "id": "4ECU5uszr5GU"
      },
      "source": [
        "### Listing the datasets\n",
        "Firstly, take a look at the files Numerai offers below:"
      ]
    },
    {
      "cell_type": "code",
      "execution_count": 2,
      "metadata": {
        "colab": {
          "base_uri": "https://localhost:8080/"
        },
        "id": "4B4bbH07r5GU",
        "outputId": "b7902d94-47fa-46b1-b625-a29d71a359b1"
      },
      "outputs": [
        {
          "output_type": "stream",
          "name": "stdout",
          "text": [
            "Available versions:\n",
            " ['v4.1', 'v4', 'v4.2', 'v4.3']\n",
            "availbable v4.3 files:\n",
            " ['v4.3/features.json', 'v4.3/live_benchmark_models.parquet', 'v4.3/live_example_preds.csv', 'v4.3/live_example_preds.parquet', 'v4.3/live_int8.parquet', 'v4.3/meta_model.parquet', 'v4.3/train_benchmark_models.parquet', 'v4.3/train_int8.parquet', 'v4.3/validation_benchmark_models.parquet', 'v4.3/validation_example_preds.csv', 'v4.3/validation_example_preds.parquet', 'v4.3/validation_int8.parquet']\n"
          ]
        }
      ],
      "source": [
        "# Initialize NumerAPI - the official Python API client for Numerai\n",
        "from numerapi import NumerAPI\n",
        "napi = NumerAPI()\n",
        "\n",
        "# list the datasets and available versions\n",
        "all_datasets = napi.list_datasets()\n",
        "dataset_versions = list(set(d.split('/')[0] for d in all_datasets))\n",
        "print(\"Available versions:\\n\", dataset_versions)\n",
        "\n",
        "# Set data version to one of the latest datasets\n",
        "DATA_VERSION = \"v4.3\"\n",
        "\n",
        "# Print all files available for download for our version\n",
        "current_version_files = [f for f in all_datasets if f.startswith(DATA_VERSION)]\n",
        "print(\"availbable\", DATA_VERSION, \"files:\\n\", current_version_files)"
      ]
    },
    {
      "cell_type": "markdown",
      "metadata": {
        "id": "avIeXI5T9CC-"
      },
      "source": [
        "### Downloading datasets\n",
        "\n",
        "The `features.json` file contains metadata about features in the dataset including:\n",
        "- statistics on each feature\n",
        "- helpful sets of features\n",
        "- the targets available for training\n",
        "\n",
        "Let's download it and take a look:"
      ]
    },
    {
      "cell_type": "code",
      "execution_count": 3,
      "metadata": {
        "colab": {
          "base_uri": "https://localhost:8080/"
        },
        "id": "_Mldufeo9BKS",
        "outputId": "fc1bebb8-234e-4055-c093-a5c93752ac21"
      },
      "outputs": [
        {
          "output_type": "stream",
          "name": "stderr",
          "text": [
            "v4.3/features.json: 1.12MB [00:00, 4.25MB/s]                           "
          ]
        },
        {
          "output_type": "stream",
          "name": "stdout",
          "text": [
            "feature_stats 2376\n",
            "feature_sets 17\n",
            "targets 41\n"
          ]
        },
        {
          "output_type": "stream",
          "name": "stderr",
          "text": [
            "\n"
          ]
        }
      ],
      "source": [
        "import json\n",
        "\n",
        "# download the feature metadata file\n",
        "napi.download_dataset(f\"{DATA_VERSION}/features.json\");\n",
        "\n",
        "# read the metadata and display\n",
        "feature_metadata = json.load(open(f\"{DATA_VERSION}/features.json\"))\n",
        "for metadata in feature_metadata:\n",
        "  print(metadata, len(feature_metadata[metadata]))"
      ]
    },
    {
      "cell_type": "markdown",
      "metadata": {
        "id": "sESS7Wfs_pqz"
      },
      "source": [
        "### Feature Sets & Groups\n",
        "As you can see there are many features and targets to choose from.\n",
        "\n",
        "Instead of training a model on all 2000+ features, let's pick a subset of features to analyze.\n",
        "\n",
        "Here are a few starter sets Numerai offers:\n",
        "\n",
        "- `small` contains a minimal subset of features that have the highest [feature importance](https://scikit-learn.org/stable/auto_examples/ensemble/plot_forest_importances.html)\n",
        "\n",
        "- `medium` contains all the \"basic\" features, each unique in some way (e.g. P/E ratios vs analyst ratings)\n",
        "\n",
        "- `all` contains all features in `medium` and their variants (e.g. P/E by country vs P/E by sector)\n",
        "\n",
        "Let's take a look at the medium feature set:"
      ]
    },
    {
      "cell_type": "code",
      "execution_count": 4,
      "metadata": {
        "colab": {
          "base_uri": "https://localhost:8080/"
        },
        "id": "TeAzyU9q_dwR",
        "outputId": "769aa349-5a24-496f-afb0-aebbadf215c9"
      },
      "outputs": [
        {
          "output_type": "stream",
          "name": "stdout",
          "text": [
            "small 42\n",
            "medium 705\n",
            "all 2376\n"
          ]
        }
      ],
      "source": [
        "feature_sets = feature_metadata[\"feature_sets\"]\n",
        "for feature_set in [\"small\", \"medium\", \"all\"]:\n",
        "  print(feature_set, len(feature_sets[feature_set]))"
      ]
    },
    {
      "cell_type": "markdown",
      "metadata": {
        "id": "h0-iMpdJAubs"
      },
      "source": [
        "\n",
        "The `medium` set seems much more reasonable.\n",
        "\n",
        "Using it will speed up model training and reduce memory usage (required for Colab free tier).\n",
        "\n",
        "Let's load the training data for just the medium feature set:"
      ]
    },
    {
      "cell_type": "code",
      "execution_count": 5,
      "metadata": {
        "colab": {
          "base_uri": "https://localhost:8080/"
        },
        "id": "UC5YkX1xr5GV",
        "outputId": "48a11f8a-11e7-4678-fe77-546d1c167a19"
      },
      "outputs": [
        {
          "output_type": "stream",
          "name": "stderr",
          "text": [
            "v4.3/train_int8.parquet: 2.10GB [00:50, 41.9MB/s]                            \n"
          ]
        }
      ],
      "source": [
        "import pandas as pd\n",
        "\n",
        "# Define our feature set\n",
        "feature_set = feature_sets[\"medium\"]\n",
        "\n",
        "# Download the training data - this will take a few minutes\n",
        "napi.download_dataset(f\"{DATA_VERSION}/train_int8.parquet\");\n",
        "\n",
        "# Load only the \"medium\" feature set to\n",
        "# Use the \"all\" feature set to use all features\n",
        "train = pd.read_parquet(\n",
        "    f\"{DATA_VERSION}/train_int8.parquet\",\n",
        "    columns=[\"era\", \"target\"] + feature_set\n",
        ")\n",
        "\n",
        "# Downsample to every 4th era to reduce memory usage and speedup model training (suggested for Colab free tier)\n",
        "# Comment out the line below to use all the data\n",
        "train = train[train[\"era\"].isin(train[\"era\"].unique()[::4])]"
      ]
    },
    {
      "cell_type": "markdown",
      "metadata": {
        "id": "jBcMKMX6FoNl"
      },
      "source": [
        "\n",
        "### Training data\n",
        "\n",
        "Each row represents a stock at a specific point in time:\n",
        "- `id` is the stock id\n",
        "- `era` is the date\n",
        "- `target` is a measure of future returns for that stock\n",
        "- `features` describe the attributes of the stock (eg. P/E ratio) for that date"
      ]
    },
    {
      "cell_type": "code",
      "execution_count": 6,
      "metadata": {
        "colab": {
          "base_uri": "https://localhost:8080/",
          "height": 475
        },
        "id": "o9JOOMqpFscM",
        "outputId": "2291d681-5409-46d6-8134-bef8338a29e1"
      },
      "outputs": [
        {
          "output_type": "execute_result",
          "data": {
            "text/plain": [
              "                   era  target  feature_abating_unadaptable_weakfish  \\\n",
              "id                                                                     \n",
              "n003bba8a98662e4  0001    0.25                                     0   \n",
              "n003bee128c2fcfc  0001    0.75                                     4   \n",
              "n0048ac83aff7194  0001    0.25                                     4   \n",
              "n00691bec80d3e02  0001    0.75                                     1   \n",
              "n00b8720a2fdc4f2  0001    0.50                                     0   \n",
              "...                ...     ...                                   ...   \n",
              "nffc2d5e4b79a7ae  0573    0.25                                     4   \n",
              "nffc7d24176548a4  0573    0.50                                     0   \n",
              "nffc9844c1c7a6a9  0573    0.50                                     4   \n",
              "nffd79773f4109bb  0573    0.50                                     0   \n",
              "nfff87b21e4db902  0573    0.50                                     3   \n",
              "\n",
              "                  feature_ablest_mauritanian_elding  \\\n",
              "id                                                    \n",
              "n003bba8a98662e4                                  4   \n",
              "n003bee128c2fcfc                                  2   \n",
              "n0048ac83aff7194                                  4   \n",
              "n00691bec80d3e02                                  4   \n",
              "n00b8720a2fdc4f2                                  2   \n",
              "...                                             ...   \n",
              "nffc2d5e4b79a7ae                                  2   \n",
              "nffc7d24176548a4                                  3   \n",
              "nffc9844c1c7a6a9                                  1   \n",
              "nffd79773f4109bb                                  0   \n",
              "nfff87b21e4db902                                  3   \n",
              "\n",
              "                  feature_acclimatisable_unfeigned_maghreb  \\\n",
              "id                                                           \n",
              "n003bba8a98662e4                                         0   \n",
              "n003bee128c2fcfc                                         2   \n",
              "n0048ac83aff7194                                         2   \n",
              "n00691bec80d3e02                                         1   \n",
              "n00b8720a2fdc4f2                                         0   \n",
              "...                                                    ...   \n",
              "nffc2d5e4b79a7ae                                         4   \n",
              "nffc7d24176548a4                                         3   \n",
              "nffc9844c1c7a6a9                                         1   \n",
              "nffd79773f4109bb                                         1   \n",
              "nfff87b21e4db902                                         1   \n",
              "\n",
              "                  feature_accommodable_crinite_cleft  \\\n",
              "id                                                     \n",
              "n003bba8a98662e4                                   4   \n",
              "n003bee128c2fcfc                                   2   \n",
              "n0048ac83aff7194                                   0   \n",
              "n00691bec80d3e02                                   1   \n",
              "n00b8720a2fdc4f2                                   0   \n",
              "...                                              ...   \n",
              "nffc2d5e4b79a7ae                                   4   \n",
              "nffc7d24176548a4                                   4   \n",
              "nffc9844c1c7a6a9                                   2   \n",
              "nffd79773f4109bb                                   3   \n",
              "nfff87b21e4db902                                   1   \n",
              "\n",
              "                  feature_accretive_sorrier_skedaddle  \\\n",
              "id                                                      \n",
              "n003bba8a98662e4                                    2   \n",
              "n003bee128c2fcfc                                    2   \n",
              "n0048ac83aff7194                                    2   \n",
              "n00691bec80d3e02                                    2   \n",
              "n00b8720a2fdc4f2                                    2   \n",
              "...                                               ...   \n",
              "nffc2d5e4b79a7ae                                    3   \n",
              "nffc7d24176548a4                                    2   \n",
              "nffc9844c1c7a6a9                                    0   \n",
              "nffd79773f4109bb                                    1   \n",
              "nfff87b21e4db902                                    4   \n",
              "\n",
              "                  feature_acetose_periotic_coronation  \\\n",
              "id                                                      \n",
              "n003bba8a98662e4                                    0   \n",
              "n003bee128c2fcfc                                    3   \n",
              "n0048ac83aff7194                                    0   \n",
              "n00691bec80d3e02                                    0   \n",
              "n00b8720a2fdc4f2                                    0   \n",
              "...                                               ...   \n",
              "nffc2d5e4b79a7ae                                    1   \n",
              "nffc7d24176548a4                                    0   \n",
              "nffc9844c1c7a6a9                                    3   \n",
              "nffd79773f4109bb                                    4   \n",
              "nfff87b21e4db902                                    2   \n",
              "\n",
              "                  feature_adam_incantational_winemaker  \\\n",
              "id                                                       \n",
              "n003bba8a98662e4                                     2   \n",
              "n003bee128c2fcfc                                     2   \n",
              "n0048ac83aff7194                                     2   \n",
              "n00691bec80d3e02                                     2   \n",
              "n00b8720a2fdc4f2                                     2   \n",
              "...                                                ...   \n",
              "nffc2d5e4b79a7ae                                     0   \n",
              "nffc7d24176548a4                                     2   \n",
              "nffc9844c1c7a6a9                                     2   \n",
              "nffd79773f4109bb                                     2   \n",
              "nfff87b21e4db902                                     0   \n",
              "\n",
              "                  feature_additive_untrustworthy_hierologist  ...  \\\n",
              "id                                                            ...   \n",
              "n003bba8a98662e4                                           1  ...   \n",
              "n003bee128c2fcfc                                           1  ...   \n",
              "n0048ac83aff7194                                           4  ...   \n",
              "n00691bec80d3e02                                           2  ...   \n",
              "n00b8720a2fdc4f2                                           3  ...   \n",
              "...                                                      ...  ...   \n",
              "nffc2d5e4b79a7ae                                           0  ...   \n",
              "nffc7d24176548a4                                           3  ...   \n",
              "nffc9844c1c7a6a9                                           4  ...   \n",
              "nffd79773f4109bb                                           1  ...   \n",
              "nfff87b21e4db902                                           0  ...   \n",
              "\n",
              "                  feature_witchy_orange_muley  \\\n",
              "id                                              \n",
              "n003bba8a98662e4                            0   \n",
              "n003bee128c2fcfc                            3   \n",
              "n0048ac83aff7194                            0   \n",
              "n00691bec80d3e02                            2   \n",
              "n00b8720a2fdc4f2                            1   \n",
              "...                                       ...   \n",
              "nffc2d5e4b79a7ae                            4   \n",
              "nffc7d24176548a4                            2   \n",
              "nffc9844c1c7a6a9                            1   \n",
              "nffd79773f4109bb                            2   \n",
              "nfff87b21e4db902                            1   \n",
              "\n",
              "                  feature_wombed_liberatory_malva  \\\n",
              "id                                                  \n",
              "n003bba8a98662e4                                0   \n",
              "n003bee128c2fcfc                                3   \n",
              "n0048ac83aff7194                                1   \n",
              "n00691bec80d3e02                                1   \n",
              "n00b8720a2fdc4f2                                1   \n",
              "...                                           ...   \n",
              "nffc2d5e4b79a7ae                                1   \n",
              "nffc7d24176548a4                                0   \n",
              "nffc9844c1c7a6a9                                3   \n",
              "nffd79773f4109bb                                4   \n",
              "nfff87b21e4db902                                2   \n",
              "\n",
              "                  feature_won_stalwart_eisenstein  \\\n",
              "id                                                  \n",
              "n003bba8a98662e4                                2   \n",
              "n003bee128c2fcfc                                2   \n",
              "n0048ac83aff7194                                2   \n",
              "n00691bec80d3e02                                2   \n",
              "n00b8720a2fdc4f2                                2   \n",
              "...                                           ...   \n",
              "nffc2d5e4b79a7ae                                2   \n",
              "nffc7d24176548a4                                2   \n",
              "nffc9844c1c7a6a9                                0   \n",
              "nffd79773f4109bb                                1   \n",
              "nfff87b21e4db902                                1   \n",
              "\n",
              "                  feature_wrathful_prolix_colotomy  \\\n",
              "id                                                   \n",
              "n003bba8a98662e4                                 4   \n",
              "n003bee128c2fcfc                                 0   \n",
              "n0048ac83aff7194                                 0   \n",
              "n00691bec80d3e02                                 2   \n",
              "n00b8720a2fdc4f2                                 0   \n",
              "...                                            ...   \n",
              "nffc2d5e4b79a7ae                                 1   \n",
              "nffc7d24176548a4                                 4   \n",
              "nffc9844c1c7a6a9                                 3   \n",
              "nffd79773f4109bb                                 2   \n",
              "nfff87b21e4db902                                 2   \n",
              "\n",
              "                  feature_wrinkliest_unmaintainable_usk  \\\n",
              "id                                                        \n",
              "n003bba8a98662e4                                      2   \n",
              "n003bee128c2fcfc                                      2   \n",
              "n0048ac83aff7194                                      2   \n",
              "n00691bec80d3e02                                      2   \n",
              "n00b8720a2fdc4f2                                      2   \n",
              "...                                                 ...   \n",
              "nffc2d5e4b79a7ae                                      3   \n",
              "nffc7d24176548a4                                      2   \n",
              "nffc9844c1c7a6a9                                      0   \n",
              "nffd79773f4109bb                                      0   \n",
              "nfff87b21e4db902                                      2   \n",
              "\n",
              "                  feature_wrought_muckier_temporality  \\\n",
              "id                                                      \n",
              "n003bba8a98662e4                                    4   \n",
              "n003bee128c2fcfc                                    2   \n",
              "n0048ac83aff7194                                    3   \n",
              "n00691bec80d3e02                                    3   \n",
              "n00b8720a2fdc4f2                                    0   \n",
              "...                                               ...   \n",
              "nffc2d5e4b79a7ae                                    2   \n",
              "nffc7d24176548a4                                    0   \n",
              "nffc9844c1c7a6a9                                    2   \n",
              "nffd79773f4109bb                                    1   \n",
              "nfff87b21e4db902                                    3   \n",
              "\n",
              "                  feature_yauld_antediluvial_subprefecture  \\\n",
              "id                                                           \n",
              "n003bba8a98662e4                                         3   \n",
              "n003bee128c2fcfc                                         1   \n",
              "n0048ac83aff7194                                         2   \n",
              "n00691bec80d3e02                                         2   \n",
              "n00b8720a2fdc4f2                                         1   \n",
              "...                                                    ...   \n",
              "nffc2d5e4b79a7ae                                         2   \n",
              "nffc7d24176548a4                                         2   \n",
              "nffc9844c1c7a6a9                                         0   \n",
              "nffd79773f4109bb                                         1   \n",
              "nfff87b21e4db902                                         1   \n",
              "\n",
              "                  feature_yelled_hysteretic_eath  \\\n",
              "id                                                 \n",
              "n003bba8a98662e4                               2   \n",
              "n003bee128c2fcfc                               3   \n",
              "n0048ac83aff7194                               1   \n",
              "n00691bec80d3e02                               2   \n",
              "n00b8720a2fdc4f2                               1   \n",
              "...                                          ...   \n",
              "nffc2d5e4b79a7ae                               2   \n",
              "nffc7d24176548a4                               1   \n",
              "nffc9844c1c7a6a9                               0   \n",
              "nffd79773f4109bb                               0   \n",
              "nfff87b21e4db902                               0   \n",
              "\n",
              "                  feature_yoruban_unapplied_tawse  \\\n",
              "id                                                  \n",
              "n003bba8a98662e4                                2   \n",
              "n003bee128c2fcfc                                2   \n",
              "n0048ac83aff7194                                2   \n",
              "n00691bec80d3e02                                2   \n",
              "n00b8720a2fdc4f2                                2   \n",
              "...                                           ...   \n",
              "nffc2d5e4b79a7ae                                1   \n",
              "nffc7d24176548a4                                2   \n",
              "nffc9844c1c7a6a9                                1   \n",
              "nffd79773f4109bb                                1   \n",
              "nfff87b21e4db902                                1   \n",
              "\n",
              "                  feature_zygodactyl_exponible_lathi  \n",
              "id                                                    \n",
              "n003bba8a98662e4                                   3  \n",
              "n003bee128c2fcfc                                   1  \n",
              "n0048ac83aff7194                                   2  \n",
              "n00691bec80d3e02                                   2  \n",
              "n00b8720a2fdc4f2                                   1  \n",
              "...                                              ...  \n",
              "nffc2d5e4b79a7ae                                   1  \n",
              "nffc7d24176548a4                                   3  \n",
              "nffc9844c1c7a6a9                                   2  \n",
              "nffd79773f4109bb                                   0  \n",
              "nfff87b21e4db902                                   3  \n",
              "\n",
              "[606176 rows x 707 columns]"
            ],
            "text/html": [
              "\n",
              "  <div id=\"df-81b3e994-fe12-4b29-8fc7-72eaaa1ee7f8\" class=\"colab-df-container\">\n",
              "    <div>\n",
              "<style scoped>\n",
              "    .dataframe tbody tr th:only-of-type {\n",
              "        vertical-align: middle;\n",
              "    }\n",
              "\n",
              "    .dataframe tbody tr th {\n",
              "        vertical-align: top;\n",
              "    }\n",
              "\n",
              "    .dataframe thead th {\n",
              "        text-align: right;\n",
              "    }\n",
              "</style>\n",
              "<table border=\"1\" class=\"dataframe\">\n",
              "  <thead>\n",
              "    <tr style=\"text-align: right;\">\n",
              "      <th></th>\n",
              "      <th>era</th>\n",
              "      <th>target</th>\n",
              "      <th>feature_abating_unadaptable_weakfish</th>\n",
              "      <th>feature_ablest_mauritanian_elding</th>\n",
              "      <th>feature_acclimatisable_unfeigned_maghreb</th>\n",
              "      <th>feature_accommodable_crinite_cleft</th>\n",
              "      <th>feature_accretive_sorrier_skedaddle</th>\n",
              "      <th>feature_acetose_periotic_coronation</th>\n",
              "      <th>feature_adam_incantational_winemaker</th>\n",
              "      <th>feature_additive_untrustworthy_hierologist</th>\n",
              "      <th>...</th>\n",
              "      <th>feature_witchy_orange_muley</th>\n",
              "      <th>feature_wombed_liberatory_malva</th>\n",
              "      <th>feature_won_stalwart_eisenstein</th>\n",
              "      <th>feature_wrathful_prolix_colotomy</th>\n",
              "      <th>feature_wrinkliest_unmaintainable_usk</th>\n",
              "      <th>feature_wrought_muckier_temporality</th>\n",
              "      <th>feature_yauld_antediluvial_subprefecture</th>\n",
              "      <th>feature_yelled_hysteretic_eath</th>\n",
              "      <th>feature_yoruban_unapplied_tawse</th>\n",
              "      <th>feature_zygodactyl_exponible_lathi</th>\n",
              "    </tr>\n",
              "    <tr>\n",
              "      <th>id</th>\n",
              "      <th></th>\n",
              "      <th></th>\n",
              "      <th></th>\n",
              "      <th></th>\n",
              "      <th></th>\n",
              "      <th></th>\n",
              "      <th></th>\n",
              "      <th></th>\n",
              "      <th></th>\n",
              "      <th></th>\n",
              "      <th></th>\n",
              "      <th></th>\n",
              "      <th></th>\n",
              "      <th></th>\n",
              "      <th></th>\n",
              "      <th></th>\n",
              "      <th></th>\n",
              "      <th></th>\n",
              "      <th></th>\n",
              "      <th></th>\n",
              "      <th></th>\n",
              "    </tr>\n",
              "  </thead>\n",
              "  <tbody>\n",
              "    <tr>\n",
              "      <th>n003bba8a98662e4</th>\n",
              "      <td>0001</td>\n",
              "      <td>0.25</td>\n",
              "      <td>0</td>\n",
              "      <td>4</td>\n",
              "      <td>0</td>\n",
              "      <td>4</td>\n",
              "      <td>2</td>\n",
              "      <td>0</td>\n",
              "      <td>2</td>\n",
              "      <td>1</td>\n",
              "      <td>...</td>\n",
              "      <td>0</td>\n",
              "      <td>0</td>\n",
              "      <td>2</td>\n",
              "      <td>4</td>\n",
              "      <td>2</td>\n",
              "      <td>4</td>\n",
              "      <td>3</td>\n",
              "      <td>2</td>\n",
              "      <td>2</td>\n",
              "      <td>3</td>\n",
              "    </tr>\n",
              "    <tr>\n",
              "      <th>n003bee128c2fcfc</th>\n",
              "      <td>0001</td>\n",
              "      <td>0.75</td>\n",
              "      <td>4</td>\n",
              "      <td>2</td>\n",
              "      <td>2</td>\n",
              "      <td>2</td>\n",
              "      <td>2</td>\n",
              "      <td>3</td>\n",
              "      <td>2</td>\n",
              "      <td>1</td>\n",
              "      <td>...</td>\n",
              "      <td>3</td>\n",
              "      <td>3</td>\n",
              "      <td>2</td>\n",
              "      <td>0</td>\n",
              "      <td>2</td>\n",
              "      <td>2</td>\n",
              "      <td>1</td>\n",
              "      <td>3</td>\n",
              "      <td>2</td>\n",
              "      <td>1</td>\n",
              "    </tr>\n",
              "    <tr>\n",
              "      <th>n0048ac83aff7194</th>\n",
              "      <td>0001</td>\n",
              "      <td>0.25</td>\n",
              "      <td>4</td>\n",
              "      <td>4</td>\n",
              "      <td>2</td>\n",
              "      <td>0</td>\n",
              "      <td>2</td>\n",
              "      <td>0</td>\n",
              "      <td>2</td>\n",
              "      <td>4</td>\n",
              "      <td>...</td>\n",
              "      <td>0</td>\n",
              "      <td>1</td>\n",
              "      <td>2</td>\n",
              "      <td>0</td>\n",
              "      <td>2</td>\n",
              "      <td>3</td>\n",
              "      <td>2</td>\n",
              "      <td>1</td>\n",
              "      <td>2</td>\n",
              "      <td>2</td>\n",
              "    </tr>\n",
              "    <tr>\n",
              "      <th>n00691bec80d3e02</th>\n",
              "      <td>0001</td>\n",
              "      <td>0.75</td>\n",
              "      <td>1</td>\n",
              "      <td>4</td>\n",
              "      <td>1</td>\n",
              "      <td>1</td>\n",
              "      <td>2</td>\n",
              "      <td>0</td>\n",
              "      <td>2</td>\n",
              "      <td>2</td>\n",
              "      <td>...</td>\n",
              "      <td>2</td>\n",
              "      <td>1</td>\n",
              "      <td>2</td>\n",
              "      <td>2</td>\n",
              "      <td>2</td>\n",
              "      <td>3</td>\n",
              "      <td>2</td>\n",
              "      <td>2</td>\n",
              "      <td>2</td>\n",
              "      <td>2</td>\n",
              "    </tr>\n",
              "    <tr>\n",
              "      <th>n00b8720a2fdc4f2</th>\n",
              "      <td>0001</td>\n",
              "      <td>0.50</td>\n",
              "      <td>0</td>\n",
              "      <td>2</td>\n",
              "      <td>0</td>\n",
              "      <td>0</td>\n",
              "      <td>2</td>\n",
              "      <td>0</td>\n",
              "      <td>2</td>\n",
              "      <td>3</td>\n",
              "      <td>...</td>\n",
              "      <td>1</td>\n",
              "      <td>1</td>\n",
              "      <td>2</td>\n",
              "      <td>0</td>\n",
              "      <td>2</td>\n",
              "      <td>0</td>\n",
              "      <td>1</td>\n",
              "      <td>1</td>\n",
              "      <td>2</td>\n",
              "      <td>1</td>\n",
              "    </tr>\n",
              "    <tr>\n",
              "      <th>...</th>\n",
              "      <td>...</td>\n",
              "      <td>...</td>\n",
              "      <td>...</td>\n",
              "      <td>...</td>\n",
              "      <td>...</td>\n",
              "      <td>...</td>\n",
              "      <td>...</td>\n",
              "      <td>...</td>\n",
              "      <td>...</td>\n",
              "      <td>...</td>\n",
              "      <td>...</td>\n",
              "      <td>...</td>\n",
              "      <td>...</td>\n",
              "      <td>...</td>\n",
              "      <td>...</td>\n",
              "      <td>...</td>\n",
              "      <td>...</td>\n",
              "      <td>...</td>\n",
              "      <td>...</td>\n",
              "      <td>...</td>\n",
              "      <td>...</td>\n",
              "    </tr>\n",
              "    <tr>\n",
              "      <th>nffc2d5e4b79a7ae</th>\n",
              "      <td>0573</td>\n",
              "      <td>0.25</td>\n",
              "      <td>4</td>\n",
              "      <td>2</td>\n",
              "      <td>4</td>\n",
              "      <td>4</td>\n",
              "      <td>3</td>\n",
              "      <td>1</td>\n",
              "      <td>0</td>\n",
              "      <td>0</td>\n",
              "      <td>...</td>\n",
              "      <td>4</td>\n",
              "      <td>1</td>\n",
              "      <td>2</td>\n",
              "      <td>1</td>\n",
              "      <td>3</td>\n",
              "      <td>2</td>\n",
              "      <td>2</td>\n",
              "      <td>2</td>\n",
              "      <td>1</td>\n",
              "      <td>1</td>\n",
              "    </tr>\n",
              "    <tr>\n",
              "      <th>nffc7d24176548a4</th>\n",
              "      <td>0573</td>\n",
              "      <td>0.50</td>\n",
              "      <td>0</td>\n",
              "      <td>3</td>\n",
              "      <td>3</td>\n",
              "      <td>4</td>\n",
              "      <td>2</td>\n",
              "      <td>0</td>\n",
              "      <td>2</td>\n",
              "      <td>3</td>\n",
              "      <td>...</td>\n",
              "      <td>2</td>\n",
              "      <td>0</td>\n",
              "      <td>2</td>\n",
              "      <td>4</td>\n",
              "      <td>2</td>\n",
              "      <td>0</td>\n",
              "      <td>2</td>\n",
              "      <td>1</td>\n",
              "      <td>2</td>\n",
              "      <td>3</td>\n",
              "    </tr>\n",
              "    <tr>\n",
              "      <th>nffc9844c1c7a6a9</th>\n",
              "      <td>0573</td>\n",
              "      <td>0.50</td>\n",
              "      <td>4</td>\n",
              "      <td>1</td>\n",
              "      <td>1</td>\n",
              "      <td>2</td>\n",
              "      <td>0</td>\n",
              "      <td>3</td>\n",
              "      <td>2</td>\n",
              "      <td>4</td>\n",
              "      <td>...</td>\n",
              "      <td>1</td>\n",
              "      <td>3</td>\n",
              "      <td>0</td>\n",
              "      <td>3</td>\n",
              "      <td>0</td>\n",
              "      <td>2</td>\n",
              "      <td>0</td>\n",
              "      <td>0</td>\n",
              "      <td>1</td>\n",
              "      <td>2</td>\n",
              "    </tr>\n",
              "    <tr>\n",
              "      <th>nffd79773f4109bb</th>\n",
              "      <td>0573</td>\n",
              "      <td>0.50</td>\n",
              "      <td>0</td>\n",
              "      <td>0</td>\n",
              "      <td>1</td>\n",
              "      <td>3</td>\n",
              "      <td>1</td>\n",
              "      <td>4</td>\n",
              "      <td>2</td>\n",
              "      <td>1</td>\n",
              "      <td>...</td>\n",
              "      <td>2</td>\n",
              "      <td>4</td>\n",
              "      <td>1</td>\n",
              "      <td>2</td>\n",
              "      <td>0</td>\n",
              "      <td>1</td>\n",
              "      <td>1</td>\n",
              "      <td>0</td>\n",
              "      <td>1</td>\n",
              "      <td>0</td>\n",
              "    </tr>\n",
              "    <tr>\n",
              "      <th>nfff87b21e4db902</th>\n",
              "      <td>0573</td>\n",
              "      <td>0.50</td>\n",
              "      <td>3</td>\n",
              "      <td>3</td>\n",
              "      <td>1</td>\n",
              "      <td>1</td>\n",
              "      <td>4</td>\n",
              "      <td>2</td>\n",
              "      <td>0</td>\n",
              "      <td>0</td>\n",
              "      <td>...</td>\n",
              "      <td>1</td>\n",
              "      <td>2</td>\n",
              "      <td>1</td>\n",
              "      <td>2</td>\n",
              "      <td>2</td>\n",
              "      <td>3</td>\n",
              "      <td>1</td>\n",
              "      <td>0</td>\n",
              "      <td>1</td>\n",
              "      <td>3</td>\n",
              "    </tr>\n",
              "  </tbody>\n",
              "</table>\n",
              "<p>606176 rows × 707 columns</p>\n",
              "</div>\n",
              "    <div class=\"colab-df-buttons\">\n",
              "\n",
              "  <div class=\"colab-df-container\">\n",
              "    <button class=\"colab-df-convert\" onclick=\"convertToInteractive('df-81b3e994-fe12-4b29-8fc7-72eaaa1ee7f8')\"\n",
              "            title=\"Convert this dataframe to an interactive table.\"\n",
              "            style=\"display:none;\">\n",
              "\n",
              "  <svg xmlns=\"http://www.w3.org/2000/svg\" height=\"24px\" viewBox=\"0 -960 960 960\">\n",
              "    <path d=\"M120-120v-720h720v720H120Zm60-500h600v-160H180v160Zm220 220h160v-160H400v160Zm0 220h160v-160H400v160ZM180-400h160v-160H180v160Zm440 0h160v-160H620v160ZM180-180h160v-160H180v160Zm440 0h160v-160H620v160Z\"/>\n",
              "  </svg>\n",
              "    </button>\n",
              "\n",
              "  <style>\n",
              "    .colab-df-container {\n",
              "      display:flex;\n",
              "      gap: 12px;\n",
              "    }\n",
              "\n",
              "    .colab-df-convert {\n",
              "      background-color: #E8F0FE;\n",
              "      border: none;\n",
              "      border-radius: 50%;\n",
              "      cursor: pointer;\n",
              "      display: none;\n",
              "      fill: #1967D2;\n",
              "      height: 32px;\n",
              "      padding: 0 0 0 0;\n",
              "      width: 32px;\n",
              "    }\n",
              "\n",
              "    .colab-df-convert:hover {\n",
              "      background-color: #E2EBFA;\n",
              "      box-shadow: 0px 1px 2px rgba(60, 64, 67, 0.3), 0px 1px 3px 1px rgba(60, 64, 67, 0.15);\n",
              "      fill: #174EA6;\n",
              "    }\n",
              "\n",
              "    .colab-df-buttons div {\n",
              "      margin-bottom: 4px;\n",
              "    }\n",
              "\n",
              "    [theme=dark] .colab-df-convert {\n",
              "      background-color: #3B4455;\n",
              "      fill: #D2E3FC;\n",
              "    }\n",
              "\n",
              "    [theme=dark] .colab-df-convert:hover {\n",
              "      background-color: #434B5C;\n",
              "      box-shadow: 0px 1px 3px 1px rgba(0, 0, 0, 0.15);\n",
              "      filter: drop-shadow(0px 1px 2px rgba(0, 0, 0, 0.3));\n",
              "      fill: #FFFFFF;\n",
              "    }\n",
              "  </style>\n",
              "\n",
              "    <script>\n",
              "      const buttonEl =\n",
              "        document.querySelector('#df-81b3e994-fe12-4b29-8fc7-72eaaa1ee7f8 button.colab-df-convert');\n",
              "      buttonEl.style.display =\n",
              "        google.colab.kernel.accessAllowed ? 'block' : 'none';\n",
              "\n",
              "      async function convertToInteractive(key) {\n",
              "        const element = document.querySelector('#df-81b3e994-fe12-4b29-8fc7-72eaaa1ee7f8');\n",
              "        const dataTable =\n",
              "          await google.colab.kernel.invokeFunction('convertToInteractive',\n",
              "                                                    [key], {});\n",
              "        if (!dataTable) return;\n",
              "\n",
              "        const docLinkHtml = 'Like what you see? Visit the ' +\n",
              "          '<a target=\"_blank\" href=https://colab.research.google.com/notebooks/data_table.ipynb>data table notebook</a>'\n",
              "          + ' to learn more about interactive tables.';\n",
              "        element.innerHTML = '';\n",
              "        dataTable['output_type'] = 'display_data';\n",
              "        await google.colab.output.renderOutput(dataTable, element);\n",
              "        const docLink = document.createElement('div');\n",
              "        docLink.innerHTML = docLinkHtml;\n",
              "        element.appendChild(docLink);\n",
              "      }\n",
              "    </script>\n",
              "  </div>\n",
              "\n",
              "\n",
              "<div id=\"df-e7dd7dcd-55f1-4c10-ae36-2c03ff0cc2b5\">\n",
              "  <button class=\"colab-df-quickchart\" onclick=\"quickchart('df-e7dd7dcd-55f1-4c10-ae36-2c03ff0cc2b5')\"\n",
              "            title=\"Suggest charts\"\n",
              "            style=\"display:none;\">\n",
              "\n",
              "<svg xmlns=\"http://www.w3.org/2000/svg\" height=\"24px\"viewBox=\"0 0 24 24\"\n",
              "     width=\"24px\">\n",
              "    <g>\n",
              "        <path d=\"M19 3H5c-1.1 0-2 .9-2 2v14c0 1.1.9 2 2 2h14c1.1 0 2-.9 2-2V5c0-1.1-.9-2-2-2zM9 17H7v-7h2v7zm4 0h-2V7h2v10zm4 0h-2v-4h2v4z\"/>\n",
              "    </g>\n",
              "</svg>\n",
              "  </button>\n",
              "\n",
              "<style>\n",
              "  .colab-df-quickchart {\n",
              "      --bg-color: #E8F0FE;\n",
              "      --fill-color: #1967D2;\n",
              "      --hover-bg-color: #E2EBFA;\n",
              "      --hover-fill-color: #174EA6;\n",
              "      --disabled-fill-color: #AAA;\n",
              "      --disabled-bg-color: #DDD;\n",
              "  }\n",
              "\n",
              "  [theme=dark] .colab-df-quickchart {\n",
              "      --bg-color: #3B4455;\n",
              "      --fill-color: #D2E3FC;\n",
              "      --hover-bg-color: #434B5C;\n",
              "      --hover-fill-color: #FFFFFF;\n",
              "      --disabled-bg-color: #3B4455;\n",
              "      --disabled-fill-color: #666;\n",
              "  }\n",
              "\n",
              "  .colab-df-quickchart {\n",
              "    background-color: var(--bg-color);\n",
              "    border: none;\n",
              "    border-radius: 50%;\n",
              "    cursor: pointer;\n",
              "    display: none;\n",
              "    fill: var(--fill-color);\n",
              "    height: 32px;\n",
              "    padding: 0;\n",
              "    width: 32px;\n",
              "  }\n",
              "\n",
              "  .colab-df-quickchart:hover {\n",
              "    background-color: var(--hover-bg-color);\n",
              "    box-shadow: 0 1px 2px rgba(60, 64, 67, 0.3), 0 1px 3px 1px rgba(60, 64, 67, 0.15);\n",
              "    fill: var(--button-hover-fill-color);\n",
              "  }\n",
              "\n",
              "  .colab-df-quickchart-complete:disabled,\n",
              "  .colab-df-quickchart-complete:disabled:hover {\n",
              "    background-color: var(--disabled-bg-color);\n",
              "    fill: var(--disabled-fill-color);\n",
              "    box-shadow: none;\n",
              "  }\n",
              "\n",
              "  .colab-df-spinner {\n",
              "    border: 2px solid var(--fill-color);\n",
              "    border-color: transparent;\n",
              "    border-bottom-color: var(--fill-color);\n",
              "    animation:\n",
              "      spin 1s steps(1) infinite;\n",
              "  }\n",
              "\n",
              "  @keyframes spin {\n",
              "    0% {\n",
              "      border-color: transparent;\n",
              "      border-bottom-color: var(--fill-color);\n",
              "      border-left-color: var(--fill-color);\n",
              "    }\n",
              "    20% {\n",
              "      border-color: transparent;\n",
              "      border-left-color: var(--fill-color);\n",
              "      border-top-color: var(--fill-color);\n",
              "    }\n",
              "    30% {\n",
              "      border-color: transparent;\n",
              "      border-left-color: var(--fill-color);\n",
              "      border-top-color: var(--fill-color);\n",
              "      border-right-color: var(--fill-color);\n",
              "    }\n",
              "    40% {\n",
              "      border-color: transparent;\n",
              "      border-right-color: var(--fill-color);\n",
              "      border-top-color: var(--fill-color);\n",
              "    }\n",
              "    60% {\n",
              "      border-color: transparent;\n",
              "      border-right-color: var(--fill-color);\n",
              "    }\n",
              "    80% {\n",
              "      border-color: transparent;\n",
              "      border-right-color: var(--fill-color);\n",
              "      border-bottom-color: var(--fill-color);\n",
              "    }\n",
              "    90% {\n",
              "      border-color: transparent;\n",
              "      border-bottom-color: var(--fill-color);\n",
              "    }\n",
              "  }\n",
              "</style>\n",
              "\n",
              "  <script>\n",
              "    async function quickchart(key) {\n",
              "      const quickchartButtonEl =\n",
              "        document.querySelector('#' + key + ' button');\n",
              "      quickchartButtonEl.disabled = true;  // To prevent multiple clicks.\n",
              "      quickchartButtonEl.classList.add('colab-df-spinner');\n",
              "      try {\n",
              "        const charts = await google.colab.kernel.invokeFunction(\n",
              "            'suggestCharts', [key], {});\n",
              "      } catch (error) {\n",
              "        console.error('Error during call to suggestCharts:', error);\n",
              "      }\n",
              "      quickchartButtonEl.classList.remove('colab-df-spinner');\n",
              "      quickchartButtonEl.classList.add('colab-df-quickchart-complete');\n",
              "    }\n",
              "    (() => {\n",
              "      let quickchartButtonEl =\n",
              "        document.querySelector('#df-e7dd7dcd-55f1-4c10-ae36-2c03ff0cc2b5 button');\n",
              "      quickchartButtonEl.style.display =\n",
              "        google.colab.kernel.accessAllowed ? 'block' : 'none';\n",
              "    })();\n",
              "  </script>\n",
              "</div>\n",
              "\n",
              "  <div id=\"id_39906b17-45bd-41a4-8485-d5075452479e\">\n",
              "    <style>\n",
              "      .colab-df-generate {\n",
              "        background-color: #E8F0FE;\n",
              "        border: none;\n",
              "        border-radius: 50%;\n",
              "        cursor: pointer;\n",
              "        display: none;\n",
              "        fill: #1967D2;\n",
              "        height: 32px;\n",
              "        padding: 0 0 0 0;\n",
              "        width: 32px;\n",
              "      }\n",
              "\n",
              "      .colab-df-generate:hover {\n",
              "        background-color: #E2EBFA;\n",
              "        box-shadow: 0px 1px 2px rgba(60, 64, 67, 0.3), 0px 1px 3px 1px rgba(60, 64, 67, 0.15);\n",
              "        fill: #174EA6;\n",
              "      }\n",
              "\n",
              "      [theme=dark] .colab-df-generate {\n",
              "        background-color: #3B4455;\n",
              "        fill: #D2E3FC;\n",
              "      }\n",
              "\n",
              "      [theme=dark] .colab-df-generate:hover {\n",
              "        background-color: #434B5C;\n",
              "        box-shadow: 0px 1px 3px 1px rgba(0, 0, 0, 0.15);\n",
              "        filter: drop-shadow(0px 1px 2px rgba(0, 0, 0, 0.3));\n",
              "        fill: #FFFFFF;\n",
              "      }\n",
              "    </style>\n",
              "    <button class=\"colab-df-generate\" onclick=\"generateWithVariable('train')\"\n",
              "            title=\"Generate code using this dataframe.\"\n",
              "            style=\"display:none;\">\n",
              "\n",
              "  <svg xmlns=\"http://www.w3.org/2000/svg\" height=\"24px\"viewBox=\"0 0 24 24\"\n",
              "       width=\"24px\">\n",
              "    <path d=\"M7,19H8.4L18.45,9,17,7.55,7,17.6ZM5,21V16.75L18.45,3.32a2,2,0,0,1,2.83,0l1.4,1.43a1.91,1.91,0,0,1,.58,1.4,1.91,1.91,0,0,1-.58,1.4L9.25,21ZM18.45,9,17,7.55Zm-12,3A5.31,5.31,0,0,0,4.9,8.1,5.31,5.31,0,0,0,1,6.5,5.31,5.31,0,0,0,4.9,4.9,5.31,5.31,0,0,0,6.5,1,5.31,5.31,0,0,0,8.1,4.9,5.31,5.31,0,0,0,12,6.5,5.46,5.46,0,0,0,6.5,12Z\"/>\n",
              "  </svg>\n",
              "    </button>\n",
              "    <script>\n",
              "      (() => {\n",
              "      const buttonEl =\n",
              "        document.querySelector('#id_39906b17-45bd-41a4-8485-d5075452479e button.colab-df-generate');\n",
              "      buttonEl.style.display =\n",
              "        google.colab.kernel.accessAllowed ? 'block' : 'none';\n",
              "\n",
              "      buttonEl.onclick = () => {\n",
              "        google.colab.notebook.generateWithVariable('train');\n",
              "      }\n",
              "      })();\n",
              "    </script>\n",
              "  </div>\n",
              "\n",
              "    </div>\n",
              "  </div>\n"
            ],
            "application/vnd.google.colaboratory.intrinsic+json": {
              "type": "dataframe",
              "variable_name": "train"
            }
          },
          "metadata": {},
          "execution_count": 6
        }
      ],
      "source": [
        "train"
      ]
    },
    {
      "cell_type": "markdown",
      "metadata": {
        "id": "lSvdym9wr5GW"
      },
      "source": [
        "### Eras\n",
        "As mentioned above, each `era` corresponds to a different date. Each era is exactly 1 week apart.\n",
        "\n",
        "It is helpful to think about rows of stocks within the same `era` as a single example. You will notice that throughout this notebook and other examples, we often talk about things \"per era\". For example, the number of rows per era represents the number of stocks in Numerai's investable universe on that date."
      ]
    },
    {
      "cell_type": "code",
      "execution_count": 7,
      "metadata": {
        "colab": {
          "base_uri": "https://localhost:8080/",
          "height": 350
        },
        "id": "7JX0Bs95r5GX",
        "outputId": "a07a96e3-e981-4d2c-ec86-9b8d7fe71b9e"
      },
      "outputs": [
        {
          "output_type": "execute_result",
          "data": {
            "text/plain": [
              "<Axes: title={'center': 'Number of rows per era'}, xlabel='Era'>"
            ]
          },
          "metadata": {},
          "execution_count": 7
        },
        {
          "output_type": "display_data",
          "data": {
            "text/plain": [
              "<Figure size 500x300 with 1 Axes>"
            ],
            "image/png": "[encoded data removed]"
          },
          "metadata": {}
        }
      ],
      "source": [
        "# Plot the number of rows per era\n",
        "train.groupby(\"era\").size().plot(\n",
        "    title=\"Number of rows per era\",\n",
        "    figsize=(5, 3),\n",
        "    xlabel=\"Era\"\n",
        ")"
      ]
    },
    {
      "cell_type": "markdown",
      "metadata": {
        "id": "FxQCUEEPr5GZ"
      },
      "source": [
        "### Target\n",
        "The `target` is a measure of stock market returns over the next 20 (business) days. Specifically, it is a measure of \"stock-specific\" returns that are not explained by well-known \"factors\" or broader trends in the market, country, or sector. For example, if Apple went up and the tech sector also went up, we only want to know if Apple went up more or less than the tech sector.\n",
        "\n",
        "Target values are binned into 5 unequal bins: `0`, `0.25`, `0.5`, `0.75`, `1.0`. Again, this heavy regularization of target values is to avoid overfitting as the underlying values are extremely noisy."
      ]
    },
    {
      "cell_type": "code",
      "execution_count": 8,
      "metadata": {
        "colab": {
          "base_uri": "https://localhost:8080/",
          "height": 350
        },
        "id": "8ALp0YQ6r5GZ",
        "outputId": "f530cf96-aa79-49f1-f9d6-d167a174ec7c"
      },
      "outputs": [
        {
          "output_type": "execute_result",
          "data": {
            "text/plain": [
              "<Axes: title={'center': 'Target'}, xlabel='Value', ylabel='Frequency'>"
            ]
          },
          "metadata": {},
          "execution_count": 8
        },
        {
          "output_type": "display_data",
          "data": {
            "text/plain": [
              "<Figure size 500x300 with 1 Axes>"
            ],
            "image/png": "[encoded data removed]"
          },
          "metadata": {}
        }
      ],
      "source": [
        "# Plot density histogram of the target\n",
        "train[\"target\"].plot(\n",
        "  kind=\"hist\",\n",
        "  title=\"Target\",\n",
        "  figsize=(5, 3),\n",
        "  xlabel=\"Value\",\n",
        "  density=True,\n",
        "  bins=50\n",
        ")"
      ]
    },
    {
      "cell_type": "markdown",
      "metadata": {
        "id": "rhj9RZGNr5GX"
      },
      "source": [
        "### Features\n",
        "The `features` are quantitative attributes of each stock: fundamentals like P/E ratio, technical signals like RSI, market data like short interest, secondary data like analyst ratings, and much more.\n",
        "\n",
        "The underlying definition of each feature is not important, just know that Numerai has included these features in the dataset because we believe they are predictive of the `target` either by themselves or in combination with other features.\n",
        "\n",
        "Feature values are binned into 5 equal bins: `0`, `1`, `2`, `3`, `4`. This heavy regularization of feature values is to avoid overfitting as the underlying values are extremely noisy. Unlike the target, these are integers instead of floats to reduce the storage needs of the overall dataset.\n",
        "\n",
        "If data for a particular feature is missing for that era (more common in early `eras`), then all values will be set to `2`."
      ]
    },
    {
      "cell_type": "code",
      "execution_count": 9,
      "metadata": {
        "colab": {
          "base_uri": "https://localhost:8080/",
          "height": 331
        },
        "id": "CHlSJccVr5GY",
        "outputId": "355d677c-1af2-4272-8335-c2bdd881d4d6"
      },
      "outputs": [
        {
          "output_type": "execute_result",
          "data": {
            "text/plain": [
              "<Axes: title={'center': 'missing data'}, ylabel='Frequency'>"
            ]
          },
          "metadata": {},
          "execution_count": 9
        },
        {
          "output_type": "display_data",
          "data": {
            "text/plain": [
              "<Figure size 1000x300 with 2 Axes>"
            ],
            "image/png": "[encoded data removed]"
          },
          "metadata": {}
        }
      ],
      "source": [
        "import matplotlib.pyplot as plt\n",
        "fig, (ax1, ax2) = plt.subplots(1, 2, figsize=(10, 3))\n",
        "first_era = train[train[\"era\"] == train[\"era\"].unique()[0]]\n",
        "last_era = train[train[\"era\"] == train[\"era\"].unique()[-1]]\n",
        "last_era[feature_set[-1]].plot(\n",
        "   title=\"5 equal bins\",\n",
        "   kind=\"hist\",\n",
        "   density=True,\n",
        "   bins=50,\n",
        "   ax=ax1\n",
        ")\n",
        "first_era[feature_set[-1]].plot(\n",
        "   title=\"missing data\",\n",
        "   kind=\"hist\",\n",
        "   density=True,\n",
        "   bins=50,\n",
        "   ax=ax2\n",
        ")"
      ]
    },
    {
      "cell_type": "markdown",
      "metadata": {
        "id": "Eyn-0Or3r5GZ"
      },
      "source": [
        "## 2. Modeling\n",
        "At a high level, our task is to model and predict the `target` using the `features`.\n",
        "\n",
        "### Model training\n",
        "\n",
        "You are free to use any tool or framework, but here we will be using LGBMRegressor, a popular choice amongst tournament participants. While you wait for the model to train, watch this [video](https://www.youtube.com/watch?v=w8Y7hY05z7k) to learn why tree-based models work so well on tabular datasets from our Chief Scientist MDO."
      ]
    },
    {
      "cell_type": "code",
      "execution_count": null,
      "metadata": {
        "colab": {
          "base_uri": "https://localhost:8080/"
        },
        "id": "prHdeg5Nr5GZ",
        "outputId": "10b77109-f464-417d-dc81-84ad37b7557e"
      },
      "outputs": [
        {
          "output_type": "stream",
          "name": "stdout",
          "text": [
            "[LightGBM] [Warning] Accuracy may be bad since you didn't explicitly set num_leaves OR 2^max_depth > num_leaves. (num_leaves=31).\n",
            "[LightGBM] [Warning] Accuracy may be bad since you didn't explicitly set num_leaves OR 2^max_depth > num_leaves. (num_leaves=31).\n",
            "[LightGBM] [Info] Auto-choosing row-wise multi-threading, the overhead of testing was 0.153048 seconds.\n",
            "You can set `force_row_wise=true` to remove the overhead.\n",
            "And if memory is not enough, you can set `force_col_wise=true`.\n",
            "[LightGBM] [Info] Total Bins 3525\n",
            "[LightGBM] [Info] Number of data points in the train set: 606176, number of used features: 705\n",
            "[LightGBM] [Info] Start training from score 0.499979\n"
          ]
        }
      ],
      "source": [
        "# https://lightgbm.readthedocs.io/en/latest/pythonapi/lightgbm.LGBMRegressor.html\n",
        "import lightgbm as lgb\n",
        "\n",
        "# https://lightgbm.readthedocs.io/en/latest/Parameters-Tuning.html\n",
        "model = lgb.LGBMRegressor(\n",
        "  n_estimators=2000,\n",
        "  learning_rate=0.01,\n",
        "  max_depth=5,\n",
        "  num_leaves=2**5-1,\n",
        "  colsample_bytree=0.1\n",
        ")\n",
        "\n",
        "# This will take a few minutes 🍵\n",
        "model.fit(\n",
        "  train[feature_set],\n",
        "  train[\"target\"]\n",
        ");"
      ]
    },
    {
      "cell_type": "markdown",
      "metadata": {
        "id": "jTqgml-br5Ga"
      },
      "source": [
        "### Validation predictions\n",
        "\n",
        "Now let's make some out-of-sample predictions on the validation dataset to evaluate our model's performance."
      ]
    },
    {
      "cell_type": "code",
      "execution_count": null,
      "metadata": {
        "id": "ImonnvQYr5Ga"
      },
      "outputs": [],
      "source": [
        "# Download validation data - this will take a few minutes\n",
        "napi.download_dataset(f\"{DATA_VERSION}/validation_int8.parquet\");\n",
        "\n",
        "# Load the validation data and filter for data_type == \"validation\"\n",
        "validation = pd.read_parquet(\n",
        "    f\"{DATA_VERSION}/validation_int8.parquet\",\n",
        "    columns=[\"era\", \"data_type\", \"target\"] + feature_set\n",
        ")\n",
        "validation = validation[validation[\"data_type\"] == \"validation\"]\n",
        "del validation[\"data_type\"]\n",
        "\n",
        "# Downsample to every 4th era to reduce memory usage and speedup evaluation (suggested for Colab free tier)\n",
        "# Comment out the line below to use all the data (slower and higher memory usage, but more accurate evaluation)\n",
        "validation = validation[validation[\"era\"].isin(validation[\"era\"].unique()[::4])]\n",
        "\n",
        "# Eras are 1 week apart, but targets look 20 days (o 4 weeks/eras) into the future,\n",
        "# so we need to \"embargo\" the first 4 eras following our last train era to avoid \"data leakage\"\n",
        "last_train_era = int(train[\"era\"].unique()[-1])\n",
        "eras_to_embargo = [str(era).zfill(4) for era in [last_train_era + i for i in range(4)]]\n",
        "validation = validation[~validation[\"era\"].isin(eras_to_embargo)]\n",
        "\n",
        "# Generate predictions against the out-of-sample validation features\n",
        "# This will take a few minutes 🍵\n",
        "validation[\"prediction\"] = model.predict(validation[feature_set])\n",
        "validation[[\"era\", \"prediction\", \"target\"]]"
      ]
    },
    {
      "cell_type": "markdown",
      "metadata": {
        "id": "toGRSHN9r5Ga"
      },
      "source": [
        "### Performance evaluation\n",
        "\n",
        "Numerai calculates scores designed to \"align incentives\" between your model and the hedge fund - a model with good scores should help the hedge fund make good returns. The primary scoring metrics in Numerai are:\n",
        "\n",
        "- `CORR` (or \"Correlation\") which is calculated by the function `numerai_corr` - a Numerai specific variant of the Pearson Correlation between your model and the target.\n",
        "\n",
        "- `MMC` (or \"Meta Model Contribution\") which is a calculated by the function `correlation_contribution` - a measure of how uniquely additive your model is to the Numerai Meta Model.\n",
        "\n",
        "On the Numerai website you will see `CORR` referred to as `CORR20V2`, where the \"20\" refers to the 20-day return target and \"v2\" specifies that we are using the 2nd version of the scoring function."
      ]
    },
    {
      "cell_type": "code",
      "execution_count": null,
      "metadata": {
        "id": "lTdo3r_Kr5Ga"
      },
      "outputs": [],
      "source": [
        "# install Numerai's open-source scoring tools\n",
        "!pip install -q --no-deps numerai-tools\n",
        "\n",
        "# import the 2 scoring functions\n",
        "from numerai_tools.scoring import numerai_corr, correlation_contribution\n",
        "\n",
        "# Download and join in the meta_model for the validation eras\n",
        "napi.download_dataset(f\"{DATA_VERSION}/meta_model.parquet\")\n",
        "validation[\"meta_model\"] = pd.read_parquet(\n",
        "    f\"{DATA_VERSION}/meta_model.parquet\"\n",
        ")[\"numerai_meta_model\"]"
      ]
    },
    {
      "cell_type": "markdown",
      "metadata": {
        "id": "BX49Z_Lnr5Gb"
      },
      "source": [
        "As mentioned above, it is important for us to score each historical `era` independantly. So when evaluating the performance of our model, we should be looking at the \"per era\" metrics.\n",
        "\n",
        "One thing you may notice here is how low the scores are (in the range of +/- 0.05). This is very normal in the domain of quantitative finance and is part of the reason why we say Numerai is the \"hardest data science tournament\" in the world."
      ]
    },
    {
      "cell_type": "code",
      "execution_count": null,
      "metadata": {
        "id": "u_qnP9QVr5Gb"
      },
      "outputs": [],
      "source": [
        "# Compute the per-era corr between our predictions and the target values\n",
        "per_era_corr = validation.groupby(\"era\").apply(\n",
        "    lambda x: numerai_corr(x[[\"prediction\"]].dropna(), x[\"target\"].dropna())\n",
        ")\n",
        "\n",
        "# Compute the per-era mmc between our predictions, the meta model, and the target values\n",
        "per_era_mmc = validation.dropna().groupby(\"era\").apply(\n",
        "    lambda x: correlation_contribution(x[[\"prediction\"]], x[\"meta_model\"], x[\"target\"])\n",
        ")\n",
        "\n",
        "\n",
        "# Plot the per-era correlation\n",
        "per_era_corr.plot(\n",
        "  title=\"Validation CORR\",\n",
        "  kind=\"bar\",\n",
        "  figsize=(8, 4),\n",
        "  xticks=[],\n",
        "  legend=False,\n",
        "  snap=False\n",
        ")\n",
        "per_era_mmc.plot(\n",
        "  title=\"Validation MMC\",\n",
        "  kind=\"bar\",\n",
        "  figsize=(8, 4),\n",
        "  xticks=[],\n",
        "  legend=False,\n",
        "  snap=False\n",
        ")"
      ]
    },
    {
      "cell_type": "markdown",
      "metadata": {
        "id": "bAMEtbTFr5Gb"
      },
      "source": [
        "Instead of looking at the raw score for each era, it is helpful to look at the cumulative scores.\n",
        "\n",
        "If you are familiar with \"backtesting\" in quant finance where people simulate the historical performance of their investment strategies, you can roughly think of this plot as a backtest of your model performance over the historical validation period.\n",
        "\n",
        "Notice a few things below:\n",
        "\n",
        "- CORR gradually increases over many eras of the validation data even with this simple model on modern data.\n",
        "\n",
        "- MMC is generated over a smaller set of recent eras - this is because the validation time range pre-dates the Meta Model.\n",
        "\n",
        "- MMC is very high early on in the Meta Model's existence, MMC - this is because the newest datasets were not available and models trained on the newest data are could have been very additive in the past.\n",
        "\n",
        "- MMC is flat and decreasing recently because the Meta Model has started catching up to modern data sets and getting correlation has been difficult in recent eras."
      ]
    },
    {
      "cell_type": "code",
      "execution_count": null,
      "metadata": {
        "id": "T62k0nGpr5Gb"
      },
      "outputs": [],
      "source": [
        "# Plot the cumulative per-era correlation\n",
        "per_era_corr.cumsum().plot(\n",
        "  title=\"Cumulative Validation CORR\",\n",
        "  kind=\"line\",\n",
        "  figsize=(8, 4),\n",
        "  legend=False\n",
        ")\n",
        "per_era_mmc.cumsum().plot(\n",
        "  title=\"Cumulative Validation MMC\",\n",
        "  kind=\"line\",\n",
        "  figsize=(8, 4),\n",
        "  legend=False\n",
        ")"
      ]
    },
    {
      "cell_type": "markdown",
      "metadata": {
        "id": "VtW4n1jpr5Gc"
      },
      "source": [
        "### Performance metrics\n",
        "\n",
        "To evaluate the performance of our model, it is also helpful to compute some summary metrics over the entire validation period:\n",
        "\n",
        "- `Mean` is the primary measure of your model's long-term performance.\n",
        "\n",
        "- `Sharpe` is a measure of your model's consistency. In finance, the Sharpe ratio of an investment strategy measures risk adjusted returns. In Numerai, we compute sharpe as the mean divided by the standard deviation.\n",
        "\n",
        "- `Max drawdown` is a measure of your model's risk. In finance, the max drawdown of an investment strategy is the largest loss suffered. In Numerai, we compute max drawdown as the maximum peak to trough drop in a cumulative score."
      ]
    },
    {
      "cell_type": "code",
      "execution_count": null,
      "metadata": {
        "id": "0EXHy3M0r5Gc"
      },
      "outputs": [],
      "source": [
        "# Compute performance metrics\n",
        "corr_mean = per_era_corr.mean()\n",
        "corr_std = per_era_corr.std(ddof=0)\n",
        "corr_sharpe = corr_mean / corr_std\n",
        "corr_max_drawdown = (per_era_corr.cumsum().expanding(min_periods=1).max() - per_era_corr.cumsum()).max()\n",
        "\n",
        "mmc_mean = per_era_mmc.mean()\n",
        "mmc_std = per_era_mmc.std(ddof=0)\n",
        "mmc_sharpe = mmc_mean / mmc_std\n",
        "mmc_max_drawdown = (per_era_mmc.cumsum().expanding(min_periods=1).max() - per_era_mmc.cumsum()).max()\n",
        "\n",
        "pd.DataFrame({\n",
        "    \"mean\": [corr_mean, mmc_mean],\n",
        "    \"std\": [corr_std, mmc_std],\n",
        "    \"sharpe\": [corr_sharpe, mmc_sharpe],\n",
        "    \"max_drawdown\": [corr_max_drawdown, mmc_max_drawdown]\n",
        "}, index=[\"CORR\", \"MMC\"]).T"
      ]
    },
    {
      "cell_type": "markdown",
      "metadata": {
        "id": "7k973wHgr5Gc"
      },
      "source": [
        "These performance metrics above are not amazing but that's ok, we are just getting started. In the next few tutorials, you will learn how to improve our model performance."
      ]
    },
    {
      "cell_type": "markdown",
      "metadata": {
        "id": "5gC06mZ-r5Gc"
      },
      "source": [
        "## 3. Submissions\n",
        "\n",
        "Unlike Kaggle competitions that evalute models based on <ins>test</ins> performance, Numerai evaluates models based based on <ins>live</ins> performance.\n",
        "\n",
        "### Live predictions\n",
        "\n",
        "Every Tuesday-Saturday, new `live features` are released, which represent the current state of the stock market.\n",
        "\n",
        "Your task is to generate `live predictions` on the unknown target values, which represent stock market returns 20 days into the future."
      ]
    },
    {
      "cell_type": "code",
      "execution_count": null,
      "metadata": {
        "id": "yUEWmrdnr5Gc"
      },
      "outputs": [],
      "source": [
        "# Download latest live features\n",
        "napi.download_dataset(f\"{DATA_VERSION}/live_int8.parquet\")\n",
        "\n",
        "# Load live features\n",
        "live_features = pd.read_parquet(f\"{DATA_VERSION}/live_int8.parquet\", columns=feature_set)\n",
        "\n",
        "# Generate live predictions\n",
        "live_predictions = model.predict(live_features[feature_set])\n",
        "\n",
        "# Format submission\n",
        "pd.Series(live_predictions, index=live_features.index).to_frame(\"prediction\")"
      ]
    },
    {
      "cell_type": "markdown",
      "metadata": {
        "id": "JAsl2z7mr5Gd"
      },
      "source": [
        "### Model upload\n",
        "\n",
        "To participate in the tournament, you must submit live predictions every Tuesday-Saturday.\n",
        "\n",
        "To automate this process, you can simply:\n",
        "- Define your prediction pipeline as a function\n",
        "- Serialize your function using the `cloudpickle` library\n",
        "- Upload your model pickle file to Numerai\n",
        "- Let Numerai run your model to submit live predictions every day\n",
        "\n",
        "Read more about Model Uploads and other self-hosted automation options in our [docs](https://docs.numer.ai/numerai-tournament/submissions#automation).\n"
      ]
    },
    {
      "cell_type": "code",
      "execution_count": null,
      "metadata": {
        "id": "U4bHP_BGr5Gd"
      },
      "outputs": [],
      "source": [
        "# Define your prediction pipeline as a function\n",
        "def predict(live_features: pd.DataFrame) -> pd.DataFrame:\n",
        "    live_predictions = model.predict(live_features[feature_set])\n",
        "    submission = pd.Series(live_predictions, index=live_features.index)\n",
        "    return submission.to_frame(\"prediction\")"
      ]
    },
    {
      "cell_type": "code",
      "execution_count": null,
      "metadata": {
        "id": "l442TN44r5Gd"
      },
      "outputs": [],
      "source": [
        "# Use the cloudpickle library to serialize your function\n",
        "import cloudpickle\n",
        "p = cloudpickle.dumps(predict)\n",
        "with open(\"predict.pkl\", \"wb\") as f:\n",
        "    f.write(p)"
      ]
    },
    {
      "cell_type": "code",
      "execution_count": null,
      "metadata": {
        "id": "IFUq_XpDr5Gd"
      },
      "outputs": [],
      "source": [
        "# Download file if running in Google Colab\n",
        "try:\n",
        "    from google.colab import files\n",
        "    files.download('predict.pkl')\n",
        "except:\n",
        "    pass"
      ]
    },
    {
      "cell_type": "markdown",
      "metadata": {
        "id": "iplRaPPLr5Gd"
      },
      "source": [
        "That's it! You now have a pickle file that is ready for upload.\n",
        "\n",
        "Head back to the [Hello Numerai Tutorial](https://numer.ai/tutorial/hello-numerai) to upload your model!"
      ]
    }
  ],
  "metadata": {
    "colab": {
      "provenance": [],
      "include_colab_link": true
    },
    "kernelspec": {
      "display_name": "Python 3 (ipykernel)",
      "language": "python",
      "name": "python3"
    },
    "language_info": {
      "codemirror_mode": {
        "name": "ipython",
        "version": 3
      },
      "file_extension": ".py",
      "mimetype": "text/x-python",
      "name": "python",
      "nbconvert_exporter": "python",
      "pygments_lexer": "ipython3",
      "version": "3.11.4"
    }
  },
  "nbformat": 4,
  "nbformat_minor": 0
}